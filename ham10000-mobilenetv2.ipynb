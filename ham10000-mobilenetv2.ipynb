{
 "cells": [
  {
   "cell_type": "code",
   "execution_count": 1,
   "metadata": {
    "_cell_guid": "79c7e3d0-c299-4dcb-8224-4455121ee9b0",
    "_uuid": "d629ff2d2480ee46fbb7e2d37f6b5fab8052498a",
    "execution": {
     "iopub.execute_input": "2021-06-03T11:49:11.515672Z",
     "iopub.status.busy": "2021-06-03T11:49:11.515379Z",
     "iopub.status.idle": "2021-06-03T11:49:12.404404Z",
     "shell.execute_reply": "2021-06-03T11:49:12.403654Z",
     "shell.execute_reply.started": "2021-06-03T11:49:11.515615Z"
    }
   },
   "outputs": [
    {
     "name": "stdout",
     "output_type": "stream",
     "text": [
      "WARNING:tensorflow:From C:\\Users\\Rasti fitness\\AppData\\Local\\Packages\\PythonSoftwareFoundation.Python.3.9_qbz5n2kfra8p0\\LocalCache\\local-packages\\Python39\\site-packages\\keras\\src\\losses.py:2976: The name tf.losses.sparse_softmax_cross_entropy is deprecated. Please use tf.compat.v1.losses.sparse_softmax_cross_entropy instead.\n",
      "\n"
     ]
    }
   ],
   "source": [
    "import pandas as pd\n",
    "import tensorflow\n",
    "import numpy as np\n",
    "from keras.models import Sequential\n",
    "from keras import optimizers\n",
    "from keras.layers import Dense, Conv2D, Dropout, Flatten, MaxPooling2D\n",
    "from keras.applications import MobileNetV2"
   ]
  },
  {
   "cell_type": "code",
   "execution_count": 2,
   "metadata": {
    "execution": {
     "iopub.execute_input": "2021-06-03T11:49:19.376791Z",
     "iopub.status.busy": "2021-06-03T11:49:19.376463Z",
     "iopub.status.idle": "2021-06-03T11:49:29.693454Z",
     "shell.execute_reply": "2021-06-03T11:49:29.692592Z",
     "shell.execute_reply.started": "2021-06-03T11:49:19.376742Z"
    }
   },
   "outputs": [
    {
     "name": "stdout",
     "output_type": "stream",
     "text": [
      "WARNING:tensorflow:From C:\\Users\\Rasti fitness\\AppData\\Local\\Packages\\PythonSoftwareFoundation.Python.3.9_qbz5n2kfra8p0\\LocalCache\\local-packages\\Python39\\site-packages\\keras\\src\\backend.py:1398: The name tf.executing_eagerly_outside_functions is deprecated. Please use tf.compat.v1.executing_eagerly_outside_functions instead.\n",
      "\n",
      "WARNING:tensorflow:From C:\\Users\\Rasti fitness\\AppData\\Local\\Packages\\PythonSoftwareFoundation.Python.3.9_qbz5n2kfra8p0\\LocalCache\\local-packages\\Python39\\site-packages\\keras\\src\\layers\\normalization\\batch_normalization.py:979: The name tf.nn.fused_batch_norm is deprecated. Please use tf.compat.v1.nn.fused_batch_norm instead.\n",
      "\n"
     ]
    }
   ],
   "source": [
    "base_model=MobileNetV2(include_top=False, weights=\"imagenet\", input_shape=(224,224,3))"
   ]
  },
  {
   "cell_type": "code",
   "execution_count": 3,
   "metadata": {
    "execution": {
     "iopub.execute_input": "2021-06-03T11:49:45.606699Z",
     "iopub.status.busy": "2021-06-03T11:49:45.606379Z",
     "iopub.status.idle": "2021-06-03T11:49:49.659686Z",
     "shell.execute_reply": "2021-06-03T11:49:49.658772Z",
     "shell.execute_reply.started": "2021-06-03T11:49:45.606647Z"
    }
   },
   "outputs": [],
   "source": [
    "model = Sequential()\n",
    "model.add(base_model)\n",
    "model.add(Conv2D(64, (3, 3), activation = 'relu'))\n",
    "model.add(MaxPooling2D(pool_size = (2, 2)))\n",
    "model.add(Dropout(0.40))\n",
    "model.add(Flatten())\n",
    "model.add(Dense(128,activation='relu'))\n",
    "model.add(Dropout(0.4))\n",
    "model.add(Dense(7, activation='sigmoid'))\n"
   ]
  },
  {
   "cell_type": "code",
   "execution_count": 4,
   "metadata": {
    "execution": {
     "iopub.execute_input": "2021-06-03T11:49:54.707634Z",
     "iopub.status.busy": "2021-06-03T11:49:54.707334Z",
     "iopub.status.idle": "2021-06-03T11:49:54.782297Z",
     "shell.execute_reply": "2021-06-03T11:49:54.781624Z",
     "shell.execute_reply.started": "2021-06-03T11:49:54.707585Z"
    }
   },
   "outputs": [],
   "source": [
    "data=pd.read_csv('data/HAM10000/HAM10000_metadata.csv')\n",
    "data['image_full_name']=data['image_id']+'.jpg'\n",
    "X=data[['image_full_name','dx','lesion_id']]"
   ]
  },
  {
   "cell_type": "code",
   "execution_count": 5,
   "metadata": {
    "execution": {
     "iopub.execute_input": "2021-06-03T11:49:57.197776Z",
     "iopub.status.busy": "2021-06-03T11:49:57.197456Z",
     "iopub.status.idle": "2021-06-03T11:49:57.222983Z",
     "shell.execute_reply": "2021-06-03T11:49:57.221908Z",
     "shell.execute_reply.started": "2021-06-03T11:49:57.197722Z"
    }
   },
   "outputs": [
    {
     "data": {
      "text/html": [
       "<div>\n",
       "<style scoped>\n",
       "    .dataframe tbody tr th:only-of-type {\n",
       "        vertical-align: middle;\n",
       "    }\n",
       "\n",
       "    .dataframe tbody tr th {\n",
       "        vertical-align: top;\n",
       "    }\n",
       "\n",
       "    .dataframe thead th {\n",
       "        text-align: right;\n",
       "    }\n",
       "</style>\n",
       "<table border=\"1\" class=\"dataframe\">\n",
       "  <thead>\n",
       "    <tr style=\"text-align: right;\">\n",
       "      <th></th>\n",
       "      <th>image_full_name</th>\n",
       "      <th>dx</th>\n",
       "      <th>lesion_id</th>\n",
       "    </tr>\n",
       "  </thead>\n",
       "  <tbody>\n",
       "    <tr>\n",
       "      <th>6307</th>\n",
       "      <td>ISIC_0032495.jpg</td>\n",
       "      <td>nv</td>\n",
       "      <td>HAM_0004770</td>\n",
       "    </tr>\n",
       "    <tr>\n",
       "      <th>6759</th>\n",
       "      <td>ISIC_0032209.jpg</td>\n",
       "      <td>nv</td>\n",
       "      <td>HAM_0001100</td>\n",
       "    </tr>\n",
       "    <tr>\n",
       "      <th>7436</th>\n",
       "      <td>ISIC_0032795.jpg</td>\n",
       "      <td>nv</td>\n",
       "      <td>HAM_0005961</td>\n",
       "    </tr>\n",
       "    <tr>\n",
       "      <th>9246</th>\n",
       "      <td>ISIC_0029498.jpg</td>\n",
       "      <td>nv</td>\n",
       "      <td>HAM_0001356</td>\n",
       "    </tr>\n",
       "    <tr>\n",
       "      <th>4220</th>\n",
       "      <td>ISIC_0029449.jpg</td>\n",
       "      <td>nv</td>\n",
       "      <td>HAM_0000957</td>\n",
       "    </tr>\n",
       "  </tbody>\n",
       "</table>\n",
       "</div>"
      ],
      "text/plain": [
       "       image_full_name  dx    lesion_id\n",
       "6307  ISIC_0032495.jpg  nv  HAM_0004770\n",
       "6759  ISIC_0032209.jpg  nv  HAM_0001100\n",
       "7436  ISIC_0032795.jpg  nv  HAM_0005961\n",
       "9246  ISIC_0029498.jpg  nv  HAM_0001356\n",
       "4220  ISIC_0029449.jpg  nv  HAM_0000957"
      ]
     },
     "execution_count": 5,
     "metadata": {},
     "output_type": "execute_result"
    }
   ],
   "source": [
    "X.sample(5)"
   ]
  },
  {
   "cell_type": "code",
   "execution_count": 6,
   "metadata": {
    "execution": {
     "iopub.execute_input": "2021-06-03T11:50:11.239155Z",
     "iopub.status.busy": "2021-06-03T11:50:11.238858Z",
     "iopub.status.idle": "2021-06-03T11:50:12.120428Z",
     "shell.execute_reply": "2021-06-03T11:50:12.119420Z",
     "shell.execute_reply.started": "2021-06-03T11:50:11.239097Z"
    }
   },
   "outputs": [],
   "source": [
    "from sklearn.model_selection import train_test_split\n",
    "Y=X.pop('dx').to_frame()\n",
    "X_train, X_test, y_train, y_test   = train_test_split(X,Y, test_size=0.17, random_state=42)\n",
    "X_train,X_val,y_train,y_val        =train_test_split(X_train, y_train, test_size=0.17, random_state=42)"
   ]
  },
  {
   "cell_type": "code",
   "execution_count": 7,
   "metadata": {
    "execution": {
     "iopub.execute_input": "2021-06-03T11:50:15.089182Z",
     "iopub.status.busy": "2021-06-03T11:50:15.088865Z",
     "iopub.status.idle": "2021-06-03T11:50:15.096798Z",
     "shell.execute_reply": "2021-06-03T11:50:15.096006Z",
     "shell.execute_reply.started": "2021-06-03T11:50:15.089116Z"
    }
   },
   "outputs": [],
   "source": [
    "train=pd.concat([X_train,y_train],axis=1)\n",
    "val=pd.concat([X_val,y_val],axis=1)\n",
    "test=pd.concat([X_test,y_test],axis=1)"
   ]
  },
  {
   "cell_type": "code",
   "execution_count": 8,
   "metadata": {
    "execution": {
     "iopub.execute_input": "2021-06-03T11:50:19.557737Z",
     "iopub.status.busy": "2021-06-03T11:50:19.557416Z",
     "iopub.status.idle": "2021-06-03T11:50:19.565761Z",
     "shell.execute_reply": "2021-06-03T11:50:19.562667Z",
     "shell.execute_reply.started": "2021-06-03T11:50:19.557685Z"
    }
   },
   "outputs": [],
   "source": [
    "from sklearn.preprocessing import LabelEncoder\n",
    "encoder= LabelEncoder()\n",
    "encoder.fit(val['dx'])\n",
    "name_as_indexes_train=encoder.transform(val['dx']) \n",
    "val['label']=name_as_indexes_train"
   ]
  },
  {
   "cell_type": "code",
   "execution_count": 9,
   "metadata": {
    "execution": {
     "iopub.execute_input": "2021-06-03T11:50:21.929066Z",
     "iopub.status.busy": "2021-06-03T11:50:21.928763Z",
     "iopub.status.idle": "2021-06-03T11:50:21.937561Z",
     "shell.execute_reply": "2021-06-03T11:50:21.936771Z",
     "shell.execute_reply.started": "2021-06-03T11:50:21.929012Z"
    }
   },
   "outputs": [],
   "source": [
    "encoder=LabelEncoder()\n",
    "encoder.fit(test['dx'])\n",
    "name_as_indexes_test=encoder.transform(test['dx']) \n",
    "test['label']=name_as_indexes_test"
   ]
  },
  {
   "cell_type": "code",
   "execution_count": 10,
   "metadata": {
    "execution": {
     "iopub.execute_input": "2021-06-03T11:50:34.207814Z",
     "iopub.status.busy": "2021-06-03T11:50:34.207486Z",
     "iopub.status.idle": "2021-06-03T11:50:34.212432Z",
     "shell.execute_reply": "2021-06-03T11:50:34.211400Z",
     "shell.execute_reply.started": "2021-06-03T11:50:34.207763Z"
    }
   },
   "outputs": [],
   "source": [
    "from keras.preprocessing.image import ImageDataGenerator\n",
    "train_generator = ImageDataGenerator(rescale = 1./255,\n",
    "                                     rotation_range=10,  \n",
    "                                     zoom_range = 0.1, \n",
    "                                     width_shift_range=0.0,  height_shift_range=0.00) "
   ]
  },
  {
   "cell_type": "code",
   "execution_count": 11,
   "metadata": {
    "execution": {
     "iopub.execute_input": "2021-06-03T11:50:40.138450Z",
     "iopub.status.busy": "2021-06-03T11:50:40.138157Z",
     "iopub.status.idle": "2021-06-03T11:50:45.280116Z",
     "shell.execute_reply": "2021-06-03T11:50:45.278505Z",
     "shell.execute_reply.started": "2021-06-03T11:50:40.138399Z"
    }
   },
   "outputs": [
    {
     "name": "stdout",
     "output_type": "stream",
     "text": [
      "Found 6898 validated image filenames belonging to 7 classes.\n"
     ]
    }
   ],
   "source": [
    "train_data= train_generator.flow_from_dataframe(dataframe=train,x_col=\"image_full_name\",y_col=\"dx\",\n",
    "                                                batch_size=32,directory=\"data/all_images\",\n",
    "                                                shuffle=True,class_mode=\"categorical\",target_size=(224,224))"
   ]
  },
  {
   "cell_type": "code",
   "execution_count": 12,
   "metadata": {
    "execution": {
     "iopub.execute_input": "2021-06-03T11:50:58.238004Z",
     "iopub.status.busy": "2021-06-03T11:50:58.237697Z",
     "iopub.status.idle": "2021-06-03T11:50:58.242250Z",
     "shell.execute_reply": "2021-06-03T11:50:58.241471Z",
     "shell.execute_reply.started": "2021-06-03T11:50:58.237953Z"
    }
   },
   "outputs": [],
   "source": [
    "test_generator=ImageDataGenerator(rescale = 1./255,rotation_range=10,  \n",
    "                                     zoom_range = 0.1, \n",
    "                                     width_shift_range=0.0,  height_shift_range=0.02)"
   ]
  },
  {
   "cell_type": "code",
   "execution_count": 13,
   "metadata": {
    "execution": {
     "iopub.execute_input": "2021-06-03T11:51:04.048962Z",
     "iopub.status.busy": "2021-06-03T11:51:04.048584Z",
     "iopub.status.idle": "2021-06-03T11:51:05.314217Z",
     "shell.execute_reply": "2021-06-03T11:51:05.313361Z",
     "shell.execute_reply.started": "2021-06-03T11:51:04.048901Z"
    }
   },
   "outputs": [
    {
     "name": "stdout",
     "output_type": "stream",
     "text": [
      "Found 1703 validated image filenames.\n"
     ]
    }
   ],
   "source": [
    "test_data= test_generator.flow_from_dataframe(dataframe=test,x_col=\"image_full_name\",y_col=\"dx\",\n",
    "                                              directory=\"data/all_images/\",\n",
    "                                              shuffle=False,batch_size=1,class_mode=None,target_size=(224,224))\n"
   ]
  },
  {
   "cell_type": "code",
   "execution_count": 14,
   "metadata": {
    "execution": {
     "iopub.execute_input": "2021-06-03T11:51:08.802879Z",
     "iopub.status.busy": "2021-06-03T11:51:08.802577Z",
     "iopub.status.idle": "2021-06-03T11:51:09.965001Z",
     "shell.execute_reply": "2021-06-03T11:51:09.963916Z",
     "shell.execute_reply.started": "2021-06-03T11:51:08.802831Z"
    }
   },
   "outputs": [
    {
     "name": "stdout",
     "output_type": "stream",
     "text": [
      "Found 1414 validated image filenames belonging to 7 classes.\n"
     ]
    }
   ],
   "source": [
    "val_data=test_generator.flow_from_dataframe(dataframe=val,x_col=\"image_full_name\",y_col=\"dx\",\n",
    "                                            directory=\"data/all_images/\",\n",
    "                                            batch_size=64,shuffle=False,class_mode=\"categorical\",target_size=(224,224))"
   ]
  },
  {
   "cell_type": "code",
   "execution_count": 15,
   "metadata": {
    "execution": {
     "iopub.execute_input": "2021-06-03T11:51:13.848670Z",
     "iopub.status.busy": "2021-06-03T11:51:13.848362Z",
     "iopub.status.idle": "2021-06-03T11:51:13.854390Z",
     "shell.execute_reply": "2021-06-03T11:51:13.853546Z",
     "shell.execute_reply.started": "2021-06-03T11:51:13.848620Z"
    }
   },
   "outputs": [],
   "source": [
    "from keras.callbacks import ReduceLROnPlateau\n",
    "learning_control = ReduceLROnPlateau(monitor='val_acc', patience=3, verbose=1, factor=.5, min_lr=0.0001)"
   ]
  },
  {
   "cell_type": "code",
   "execution_count": 16,
   "metadata": {
    "execution": {
     "iopub.execute_input": "2021-06-03T11:51:21.636422Z",
     "iopub.status.busy": "2021-06-03T11:51:21.636114Z",
     "iopub.status.idle": "2021-06-03T11:51:21.680652Z",
     "shell.execute_reply": "2021-06-03T11:51:21.679863Z",
     "shell.execute_reply.started": "2021-06-03T11:51:21.636370Z"
    }
   },
   "outputs": [
    {
     "name": "stderr",
     "output_type": "stream",
     "text": [
      "WARNING:absl:`lr` is deprecated in Keras optimizer, please use `learning_rate` or use the legacy optimizer, e.g.,tf.keras.optimizers.legacy.SGD.\n"
     ]
    }
   ],
   "source": [
    "from keras.optimizers import Adam,SGD\n",
    "sgd = optimizers.SGD(lr = 0.01, clipvalue = 0.5)\n",
    "model.compile(optimizer=sgd,loss=\"categorical_crossentropy\",metrics=[\"accuracy\"])"
   ]
  },
  {
   "cell_type": "code",
   "execution_count": 17,
   "metadata": {
    "execution": {
     "iopub.execute_input": "2021-06-03T11:51:27.989826Z",
     "iopub.status.busy": "2021-06-03T11:51:27.989498Z",
     "iopub.status.idle": "2021-06-03T13:11:22.154587Z",
     "shell.execute_reply": "2021-06-03T13:11:22.153729Z",
     "shell.execute_reply.started": "2021-06-03T11:51:27.989772Z"
    }
   },
   "outputs": [
    {
     "name": "stderr",
     "output_type": "stream",
     "text": [
      "C:\\Users\\Rasti fitness\\AppData\\Local\\Temp\\ipykernel_9072\\1443149548.py:1: UserWarning: `Model.fit_generator` is deprecated and will be removed in a future version. Please use `Model.fit`, which supports generators.\n",
      "  history = model.fit_generator(generator=train_data,\n"
     ]
    },
    {
     "name": "stdout",
     "output_type": "stream",
     "text": [
      "Epoch 1/30\n",
      "WARNING:tensorflow:From C:\\Users\\Rasti fitness\\AppData\\Local\\Packages\\PythonSoftwareFoundation.Python.3.9_qbz5n2kfra8p0\\LocalCache\\local-packages\\Python39\\site-packages\\keras\\src\\utils\\tf_utils.py:492: The name tf.ragged.RaggedTensorValue is deprecated. Please use tf.compat.v1.ragged.RaggedTensorValue instead.\n",
      "\n"
     ]
    },
    {
     "name": "stderr",
     "output_type": "stream",
     "text": [
      "WARNING:tensorflow:From C:\\Users\\Rasti fitness\\AppData\\Local\\Packages\\PythonSoftwareFoundation.Python.3.9_qbz5n2kfra8p0\\LocalCache\\local-packages\\Python39\\site-packages\\keras\\src\\utils\\tf_utils.py:492: The name tf.ragged.RaggedTensorValue is deprecated. Please use tf.compat.v1.ragged.RaggedTensorValue instead.\n",
      "\n"
     ]
    },
    {
     "name": "stdout",
     "output_type": "stream",
     "text": [
      "WARNING:tensorflow:From C:\\Users\\Rasti fitness\\AppData\\Local\\Packages\\PythonSoftwareFoundation.Python.3.9_qbz5n2kfra8p0\\LocalCache\\local-packages\\Python39\\site-packages\\keras\\src\\engine\\base_layer_utils.py:384: The name tf.executing_eagerly_outside_functions is deprecated. Please use tf.compat.v1.executing_eagerly_outside_functions instead.\n",
      "\n"
     ]
    },
    {
     "name": "stderr",
     "output_type": "stream",
     "text": [
      "WARNING:tensorflow:From C:\\Users\\Rasti fitness\\AppData\\Local\\Packages\\PythonSoftwareFoundation.Python.3.9_qbz5n2kfra8p0\\LocalCache\\local-packages\\Python39\\site-packages\\keras\\src\\engine\\base_layer_utils.py:384: The name tf.executing_eagerly_outside_functions is deprecated. Please use tf.compat.v1.executing_eagerly_outside_functions instead.\n",
      "\n"
     ]
    },
    {
     "name": "stdout",
     "output_type": "stream",
     "text": [
      "215/215 [==============================] - ETA: 0s - loss: 1.0995 - accuracy: 0.6572WARNING:tensorflow:Learning rate reduction is conditioned on metric `val_acc` which is not available. Available metrics are: loss,accuracy,val_loss,val_accuracy,lr\n"
     ]
    },
    {
     "name": "stderr",
     "output_type": "stream",
     "text": [
      "WARNING:tensorflow:Learning rate reduction is conditioned on metric `val_acc` which is not available. Available metrics are: loss,accuracy,val_loss,val_accuracy,lr\n"
     ]
    },
    {
     "name": "stdout",
     "output_type": "stream",
     "text": [
      "215/215 [==============================] - 606s 3s/step - loss: 1.0995 - accuracy: 0.6572 - val_loss: 1.3320 - val_accuracy: 0.6683 - lr: 0.0100\n",
      "Epoch 2/30\n",
      "215/215 [==============================] - ETA: 0s - loss: 0.8572 - accuracy: 0.6952WARNING:tensorflow:Learning rate reduction is conditioned on metric `val_acc` which is not available. Available metrics are: loss,accuracy,val_loss,val_accuracy,lr\n"
     ]
    },
    {
     "name": "stderr",
     "output_type": "stream",
     "text": [
      "WARNING:tensorflow:Learning rate reduction is conditioned on metric `val_acc` which is not available. Available metrics are: loss,accuracy,val_loss,val_accuracy,lr\n"
     ]
    },
    {
     "name": "stdout",
     "output_type": "stream",
     "text": [
      "215/215 [==============================] - 520s 2s/step - loss: 0.8572 - accuracy: 0.6952 - val_loss: 2.1374 - val_accuracy: 0.6733 - lr: 0.0100\n",
      "Epoch 3/30\n",
      "215/215 [==============================] - ETA: 0s - loss: 0.7475 - accuracy: 0.7281WARNING:tensorflow:Learning rate reduction is conditioned on metric `val_acc` which is not available. Available metrics are: loss,accuracy,val_loss,val_accuracy,lr\n"
     ]
    },
    {
     "name": "stderr",
     "output_type": "stream",
     "text": [
      "WARNING:tensorflow:Learning rate reduction is conditioned on metric `val_acc` which is not available. Available metrics are: loss,accuracy,val_loss,val_accuracy,lr\n"
     ]
    },
    {
     "name": "stdout",
     "output_type": "stream",
     "text": [
      "215/215 [==============================] - 515s 2s/step - loss: 0.7475 - accuracy: 0.7281 - val_loss: 2.1100 - val_accuracy: 0.6726 - lr: 0.0100\n",
      "Epoch 4/30\n",
      "215/215 [==============================] - ETA: 0s - loss: 0.6895 - accuracy: 0.7540WARNING:tensorflow:Learning rate reduction is conditioned on metric `val_acc` which is not available. Available metrics are: loss,accuracy,val_loss,val_accuracy,lr\n"
     ]
    },
    {
     "name": "stderr",
     "output_type": "stream",
     "text": [
      "WARNING:tensorflow:Learning rate reduction is conditioned on metric `val_acc` which is not available. Available metrics are: loss,accuracy,val_loss,val_accuracy,lr\n"
     ]
    },
    {
     "name": "stdout",
     "output_type": "stream",
     "text": [
      "215/215 [==============================] - 527s 2s/step - loss: 0.6895 - accuracy: 0.7540 - val_loss: 1.3710 - val_accuracy: 0.6783 - lr: 0.0100\n",
      "Epoch 5/30\n",
      "215/215 [==============================] - ETA: 0s - loss: 0.6270 - accuracy: 0.7782WARNING:tensorflow:Learning rate reduction is conditioned on metric `val_acc` which is not available. Available metrics are: loss,accuracy,val_loss,val_accuracy,lr\n"
     ]
    },
    {
     "name": "stderr",
     "output_type": "stream",
     "text": [
      "WARNING:tensorflow:Learning rate reduction is conditioned on metric `val_acc` which is not available. Available metrics are: loss,accuracy,val_loss,val_accuracy,lr\n"
     ]
    },
    {
     "name": "stdout",
     "output_type": "stream",
     "text": [
      "215/215 [==============================] - 519s 2s/step - loss: 0.6270 - accuracy: 0.7782 - val_loss: 1.0919 - val_accuracy: 0.6804 - lr: 0.0100\n",
      "Epoch 6/30\n",
      "215/215 [==============================] - ETA: 0s - loss: 0.5656 - accuracy: 0.8003WARNING:tensorflow:Learning rate reduction is conditioned on metric `val_acc` which is not available. Available metrics are: loss,accuracy,val_loss,val_accuracy,lr\n"
     ]
    },
    {
     "name": "stderr",
     "output_type": "stream",
     "text": [
      "WARNING:tensorflow:Learning rate reduction is conditioned on metric `val_acc` which is not available. Available metrics are: loss,accuracy,val_loss,val_accuracy,lr\n"
     ]
    },
    {
     "name": "stdout",
     "output_type": "stream",
     "text": [
      "215/215 [==============================] - 517s 2s/step - loss: 0.5656 - accuracy: 0.8003 - val_loss: 1.1277 - val_accuracy: 0.6939 - lr: 0.0100\n",
      "Epoch 7/30\n",
      "215/215 [==============================] - ETA: 0s - loss: 0.5177 - accuracy: 0.8149WARNING:tensorflow:Learning rate reduction is conditioned on metric `val_acc` which is not available. Available metrics are: loss,accuracy,val_loss,val_accuracy,lr\n"
     ]
    },
    {
     "name": "stderr",
     "output_type": "stream",
     "text": [
      "WARNING:tensorflow:Learning rate reduction is conditioned on metric `val_acc` which is not available. Available metrics are: loss,accuracy,val_loss,val_accuracy,lr\n"
     ]
    },
    {
     "name": "stdout",
     "output_type": "stream",
     "text": [
      "215/215 [==============================] - 518s 2s/step - loss: 0.5177 - accuracy: 0.8149 - val_loss: 1.2187 - val_accuracy: 0.7088 - lr: 0.0100\n",
      "Epoch 8/30\n",
      "215/215 [==============================] - ETA: 0s - loss: 0.4736 - accuracy: 0.8293WARNING:tensorflow:Learning rate reduction is conditioned on metric `val_acc` which is not available. Available metrics are: loss,accuracy,val_loss,val_accuracy,lr\n"
     ]
    },
    {
     "name": "stderr",
     "output_type": "stream",
     "text": [
      "WARNING:tensorflow:Learning rate reduction is conditioned on metric `val_acc` which is not available. Available metrics are: loss,accuracy,val_loss,val_accuracy,lr\n"
     ]
    },
    {
     "name": "stdout",
     "output_type": "stream",
     "text": [
      "215/215 [==============================] - 523s 2s/step - loss: 0.4736 - accuracy: 0.8293 - val_loss: 1.4792 - val_accuracy: 0.6953 - lr: 0.0100\n",
      "Epoch 9/30\n",
      "215/215 [==============================] - ETA: 0s - loss: 0.4387 - accuracy: 0.8439WARNING:tensorflow:Learning rate reduction is conditioned on metric `val_acc` which is not available. Available metrics are: loss,accuracy,val_loss,val_accuracy,lr\n"
     ]
    },
    {
     "name": "stderr",
     "output_type": "stream",
     "text": [
      "WARNING:tensorflow:Learning rate reduction is conditioned on metric `val_acc` which is not available. Available metrics are: loss,accuracy,val_loss,val_accuracy,lr\n"
     ]
    },
    {
     "name": "stdout",
     "output_type": "stream",
     "text": [
      "215/215 [==============================] - 516s 2s/step - loss: 0.4387 - accuracy: 0.8439 - val_loss: 0.8446 - val_accuracy: 0.7266 - lr: 0.0100\n",
      "Epoch 10/30\n",
      "215/215 [==============================] - ETA: 0s - loss: 0.3968 - accuracy: 0.8653WARNING:tensorflow:Learning rate reduction is conditioned on metric `val_acc` which is not available. Available metrics are: loss,accuracy,val_loss,val_accuracy,lr\n"
     ]
    },
    {
     "name": "stderr",
     "output_type": "stream",
     "text": [
      "WARNING:tensorflow:Learning rate reduction is conditioned on metric `val_acc` which is not available. Available metrics are: loss,accuracy,val_loss,val_accuracy,lr\n"
     ]
    },
    {
     "name": "stdout",
     "output_type": "stream",
     "text": [
      "215/215 [==============================] - 529s 2s/step - loss: 0.3968 - accuracy: 0.8653 - val_loss: 1.7161 - val_accuracy: 0.7173 - lr: 0.0100\n",
      "Epoch 11/30\n",
      "215/215 [==============================] - ETA: 0s - loss: 0.3613 - accuracy: 0.8781WARNING:tensorflow:Learning rate reduction is conditioned on metric `val_acc` which is not available. Available metrics are: loss,accuracy,val_loss,val_accuracy,lr\n"
     ]
    },
    {
     "name": "stderr",
     "output_type": "stream",
     "text": [
      "WARNING:tensorflow:Learning rate reduction is conditioned on metric `val_acc` which is not available. Available metrics are: loss,accuracy,val_loss,val_accuracy,lr\n"
     ]
    },
    {
     "name": "stdout",
     "output_type": "stream",
     "text": [
      "215/215 [==============================] - 520s 2s/step - loss: 0.3613 - accuracy: 0.8781 - val_loss: 2.1178 - val_accuracy: 0.7287 - lr: 0.0100\n",
      "Epoch 12/30\n",
      "215/215 [==============================] - ETA: 0s - loss: 0.3256 - accuracy: 0.8845WARNING:tensorflow:Learning rate reduction is conditioned on metric `val_acc` which is not available. Available metrics are: loss,accuracy,val_loss,val_accuracy,lr\n"
     ]
    },
    {
     "name": "stderr",
     "output_type": "stream",
     "text": [
      "WARNING:tensorflow:Learning rate reduction is conditioned on metric `val_acc` which is not available. Available metrics are: loss,accuracy,val_loss,val_accuracy,lr\n"
     ]
    },
    {
     "name": "stdout",
     "output_type": "stream",
     "text": [
      "215/215 [==============================] - 520s 2s/step - loss: 0.3256 - accuracy: 0.8845 - val_loss: 1.2926 - val_accuracy: 0.7486 - lr: 0.0100\n",
      "Epoch 13/30\n",
      "215/215 [==============================] - ETA: 0s - loss: 0.3138 - accuracy: 0.8908WARNING:tensorflow:Learning rate reduction is conditioned on metric `val_acc` which is not available. Available metrics are: loss,accuracy,val_loss,val_accuracy,lr\n"
     ]
    },
    {
     "name": "stderr",
     "output_type": "stream",
     "text": [
      "WARNING:tensorflow:Learning rate reduction is conditioned on metric `val_acc` which is not available. Available metrics are: loss,accuracy,val_loss,val_accuracy,lr\n"
     ]
    },
    {
     "name": "stdout",
     "output_type": "stream",
     "text": [
      "215/215 [==============================] - 503s 2s/step - loss: 0.3138 - accuracy: 0.8908 - val_loss: 0.8451 - val_accuracy: 0.7940 - lr: 0.0100\n",
      "Epoch 14/30\n",
      "215/215 [==============================] - ETA: 0s - loss: 0.2542 - accuracy: 0.9142WARNING:tensorflow:Learning rate reduction is conditioned on metric `val_acc` which is not available. Available metrics are: loss,accuracy,val_loss,val_accuracy,lr\n"
     ]
    },
    {
     "name": "stderr",
     "output_type": "stream",
     "text": [
      "WARNING:tensorflow:Learning rate reduction is conditioned on metric `val_acc` which is not available. Available metrics are: loss,accuracy,val_loss,val_accuracy,lr\n"
     ]
    },
    {
     "name": "stdout",
     "output_type": "stream",
     "text": [
      "215/215 [==============================] - 499s 2s/step - loss: 0.2542 - accuracy: 0.9142 - val_loss: 2.9489 - val_accuracy: 0.3530 - lr: 0.0100\n",
      "Epoch 15/30\n",
      "215/215 [==============================] - ETA: 0s - loss: 0.2439 - accuracy: 0.9128WARNING:tensorflow:Learning rate reduction is conditioned on metric `val_acc` which is not available. Available metrics are: loss,accuracy,val_loss,val_accuracy,lr\n"
     ]
    },
    {
     "name": "stderr",
     "output_type": "stream",
     "text": [
      "WARNING:tensorflow:Learning rate reduction is conditioned on metric `val_acc` which is not available. Available metrics are: loss,accuracy,val_loss,val_accuracy,lr\n"
     ]
    },
    {
     "name": "stdout",
     "output_type": "stream",
     "text": [
      "215/215 [==============================] - 486s 2s/step - loss: 0.2439 - accuracy: 0.9128 - val_loss: 2.6676 - val_accuracy: 0.3928 - lr: 0.0100\n",
      "Epoch 16/30\n",
      "215/215 [==============================] - ETA: 0s - loss: 0.2314 - accuracy: 0.9206WARNING:tensorflow:Learning rate reduction is conditioned on metric `val_acc` which is not available. Available metrics are: loss,accuracy,val_loss,val_accuracy,lr\n"
     ]
    },
    {
     "name": "stderr",
     "output_type": "stream",
     "text": [
      "WARNING:tensorflow:Learning rate reduction is conditioned on metric `val_acc` which is not available. Available metrics are: loss,accuracy,val_loss,val_accuracy,lr\n"
     ]
    },
    {
     "name": "stdout",
     "output_type": "stream",
     "text": [
      "215/215 [==============================] - 528s 2s/step - loss: 0.2314 - accuracy: 0.9206 - val_loss: 0.6711 - val_accuracy: 0.7862 - lr: 0.0100\n",
      "Epoch 17/30\n",
      "215/215 [==============================] - ETA: 0s - loss: 0.2066 - accuracy: 0.9307WARNING:tensorflow:Learning rate reduction is conditioned on metric `val_acc` which is not available. Available metrics are: loss,accuracy,val_loss,val_accuracy,lr\n"
     ]
    },
    {
     "name": "stderr",
     "output_type": "stream",
     "text": [
      "WARNING:tensorflow:Learning rate reduction is conditioned on metric `val_acc` which is not available. Available metrics are: loss,accuracy,val_loss,val_accuracy,lr\n"
     ]
    },
    {
     "name": "stdout",
     "output_type": "stream",
     "text": [
      "215/215 [==============================] - 531s 2s/step - loss: 0.2066 - accuracy: 0.9307 - val_loss: 0.6972 - val_accuracy: 0.7876 - lr: 0.0100\n",
      "Epoch 18/30\n",
      "215/215 [==============================] - ETA: 0s - loss: 0.1913 - accuracy: 0.9331WARNING:tensorflow:Learning rate reduction is conditioned on metric `val_acc` which is not available. Available metrics are: loss,accuracy,val_loss,val_accuracy,lr\n"
     ]
    },
    {
     "name": "stderr",
     "output_type": "stream",
     "text": [
      "WARNING:tensorflow:Learning rate reduction is conditioned on metric `val_acc` which is not available. Available metrics are: loss,accuracy,val_loss,val_accuracy,lr\n"
     ]
    },
    {
     "name": "stdout",
     "output_type": "stream",
     "text": [
      "215/215 [==============================] - 496s 2s/step - loss: 0.1913 - accuracy: 0.9331 - val_loss: 0.7704 - val_accuracy: 0.8004 - lr: 0.0100\n",
      "Epoch 19/30\n",
      "215/215 [==============================] - ETA: 0s - loss: 0.1752 - accuracy: 0.9404WARNING:tensorflow:Learning rate reduction is conditioned on metric `val_acc` which is not available. Available metrics are: loss,accuracy,val_loss,val_accuracy,lr\n"
     ]
    },
    {
     "name": "stderr",
     "output_type": "stream",
     "text": [
      "WARNING:tensorflow:Learning rate reduction is conditioned on metric `val_acc` which is not available. Available metrics are: loss,accuracy,val_loss,val_accuracy,lr\n"
     ]
    },
    {
     "name": "stdout",
     "output_type": "stream",
     "text": [
      "215/215 [==============================] - 481s 2s/step - loss: 0.1752 - accuracy: 0.9404 - val_loss: 0.9672 - val_accuracy: 0.7983 - lr: 0.0100\n",
      "Epoch 20/30\n",
      "215/215 [==============================] - ETA: 0s - loss: 0.1593 - accuracy: 0.9490WARNING:tensorflow:Learning rate reduction is conditioned on metric `val_acc` which is not available. Available metrics are: loss,accuracy,val_loss,val_accuracy,lr\n"
     ]
    },
    {
     "name": "stderr",
     "output_type": "stream",
     "text": [
      "WARNING:tensorflow:Learning rate reduction is conditioned on metric `val_acc` which is not available. Available metrics are: loss,accuracy,val_loss,val_accuracy,lr\n"
     ]
    },
    {
     "name": "stdout",
     "output_type": "stream",
     "text": [
      "215/215 [==============================] - 497s 2s/step - loss: 0.1593 - accuracy: 0.9490 - val_loss: 0.6554 - val_accuracy: 0.8004 - lr: 0.0100\n",
      "Epoch 21/30\n",
      "215/215 [==============================] - ETA: 0s - loss: 0.1485 - accuracy: 0.9505WARNING:tensorflow:Learning rate reduction is conditioned on metric `val_acc` which is not available. Available metrics are: loss,accuracy,val_loss,val_accuracy,lr\n"
     ]
    },
    {
     "name": "stderr",
     "output_type": "stream",
     "text": [
      "WARNING:tensorflow:Learning rate reduction is conditioned on metric `val_acc` which is not available. Available metrics are: loss,accuracy,val_loss,val_accuracy,lr\n"
     ]
    },
    {
     "name": "stdout",
     "output_type": "stream",
     "text": [
      "215/215 [==============================] - 477s 2s/step - loss: 0.1485 - accuracy: 0.9505 - val_loss: 1.2322 - val_accuracy: 0.6847 - lr: 0.0100\n",
      "Epoch 22/30\n",
      "215/215 [==============================] - ETA: 0s - loss: 0.1326 - accuracy: 0.9554WARNING:tensorflow:Learning rate reduction is conditioned on metric `val_acc` which is not available. Available metrics are: loss,accuracy,val_loss,val_accuracy,lr\n"
     ]
    },
    {
     "name": "stderr",
     "output_type": "stream",
     "text": [
      "WARNING:tensorflow:Learning rate reduction is conditioned on metric `val_acc` which is not available. Available metrics are: loss,accuracy,val_loss,val_accuracy,lr\n"
     ]
    },
    {
     "name": "stdout",
     "output_type": "stream",
     "text": [
      "215/215 [==============================] - 476s 2s/step - loss: 0.1326 - accuracy: 0.9554 - val_loss: 0.8128 - val_accuracy: 0.7976 - lr: 0.0100\n",
      "Epoch 23/30\n",
      "215/215 [==============================] - ETA: 0s - loss: 0.1290 - accuracy: 0.9598WARNING:tensorflow:Learning rate reduction is conditioned on metric `val_acc` which is not available. Available metrics are: loss,accuracy,val_loss,val_accuracy,lr\n"
     ]
    },
    {
     "name": "stderr",
     "output_type": "stream",
     "text": [
      "WARNING:tensorflow:Learning rate reduction is conditioned on metric `val_acc` which is not available. Available metrics are: loss,accuracy,val_loss,val_accuracy,lr\n"
     ]
    },
    {
     "name": "stdout",
     "output_type": "stream",
     "text": [
      "215/215 [==============================] - 492s 2s/step - loss: 0.1290 - accuracy: 0.9598 - val_loss: 0.8306 - val_accuracy: 0.7997 - lr: 0.0100\n",
      "Epoch 24/30\n",
      "215/215 [==============================] - ETA: 0s - loss: 0.1401 - accuracy: 0.9541WARNING:tensorflow:Learning rate reduction is conditioned on metric `val_acc` which is not available. Available metrics are: loss,accuracy,val_loss,val_accuracy,lr\n"
     ]
    },
    {
     "name": "stderr",
     "output_type": "stream",
     "text": [
      "WARNING:tensorflow:Learning rate reduction is conditioned on metric `val_acc` which is not available. Available metrics are: loss,accuracy,val_loss,val_accuracy,lr\n"
     ]
    },
    {
     "name": "stdout",
     "output_type": "stream",
     "text": [
      "215/215 [==============================] - 492s 2s/step - loss: 0.1401 - accuracy: 0.9541 - val_loss: 0.8811 - val_accuracy: 0.8175 - lr: 0.0100\n",
      "Epoch 25/30\n",
      "215/215 [==============================] - ETA: 0s - loss: 0.0829 - accuracy: 0.9747WARNING:tensorflow:Learning rate reduction is conditioned on metric `val_acc` which is not available. Available metrics are: loss,accuracy,val_loss,val_accuracy,lr\n"
     ]
    },
    {
     "name": "stderr",
     "output_type": "stream",
     "text": [
      "WARNING:tensorflow:Learning rate reduction is conditioned on metric `val_acc` which is not available. Available metrics are: loss,accuracy,val_loss,val_accuracy,lr\n"
     ]
    },
    {
     "name": "stdout",
     "output_type": "stream",
     "text": [
      "215/215 [==============================] - 514s 2s/step - loss: 0.0829 - accuracy: 0.9747 - val_loss: 1.0562 - val_accuracy: 0.8033 - lr: 0.0100\n",
      "Epoch 26/30\n",
      "215/215 [==============================] - ETA: 0s - loss: 0.1098 - accuracy: 0.9674WARNING:tensorflow:Learning rate reduction is conditioned on metric `val_acc` which is not available. Available metrics are: loss,accuracy,val_loss,val_accuracy,lr\n"
     ]
    },
    {
     "name": "stderr",
     "output_type": "stream",
     "text": [
      "WARNING:tensorflow:Learning rate reduction is conditioned on metric `val_acc` which is not available. Available metrics are: loss,accuracy,val_loss,val_accuracy,lr\n"
     ]
    },
    {
     "name": "stdout",
     "output_type": "stream",
     "text": [
      "215/215 [==============================] - 513s 2s/step - loss: 0.1098 - accuracy: 0.9674 - val_loss: 1.7716 - val_accuracy: 0.5874 - lr: 0.0100\n",
      "Epoch 27/30\n",
      "215/215 [==============================] - ETA: 0s - loss: 0.1032 - accuracy: 0.9680WARNING:tensorflow:Learning rate reduction is conditioned on metric `val_acc` which is not available. Available metrics are: loss,accuracy,val_loss,val_accuracy,lr\n"
     ]
    },
    {
     "name": "stderr",
     "output_type": "stream",
     "text": [
      "WARNING:tensorflow:Learning rate reduction is conditioned on metric `val_acc` which is not available. Available metrics are: loss,accuracy,val_loss,val_accuracy,lr\n"
     ]
    },
    {
     "name": "stdout",
     "output_type": "stream",
     "text": [
      "215/215 [==============================] - 503s 2s/step - loss: 0.1032 - accuracy: 0.9680 - val_loss: 1.6997 - val_accuracy: 0.7024 - lr: 0.0100\n",
      "Epoch 28/30\n",
      "215/215 [==============================] - ETA: 0s - loss: 0.0971 - accuracy: 0.9690WARNING:tensorflow:Learning rate reduction is conditioned on metric `val_acc` which is not available. Available metrics are: loss,accuracy,val_loss,val_accuracy,lr\n"
     ]
    },
    {
     "name": "stderr",
     "output_type": "stream",
     "text": [
      "WARNING:tensorflow:Learning rate reduction is conditioned on metric `val_acc` which is not available. Available metrics are: loss,accuracy,val_loss,val_accuracy,lr\n"
     ]
    },
    {
     "name": "stdout",
     "output_type": "stream",
     "text": [
      "215/215 [==============================] - 492s 2s/step - loss: 0.0971 - accuracy: 0.9690 - val_loss: 1.6415 - val_accuracy: 0.7798 - lr: 0.0100\n",
      "Epoch 29/30\n",
      "215/215 [==============================] - ETA: 0s - loss: 0.0727 - accuracy: 0.9764WARNING:tensorflow:Learning rate reduction is conditioned on metric `val_acc` which is not available. Available metrics are: loss,accuracy,val_loss,val_accuracy,lr\n"
     ]
    },
    {
     "name": "stderr",
     "output_type": "stream",
     "text": [
      "WARNING:tensorflow:Learning rate reduction is conditioned on metric `val_acc` which is not available. Available metrics are: loss,accuracy,val_loss,val_accuracy,lr\n"
     ]
    },
    {
     "name": "stdout",
     "output_type": "stream",
     "text": [
      "215/215 [==============================] - 475s 2s/step - loss: 0.0727 - accuracy: 0.9764 - val_loss: 0.8968 - val_accuracy: 0.8104 - lr: 0.0100\n",
      "Epoch 30/30\n",
      "215/215 [==============================] - ETA: 0s - loss: 0.0633 - accuracy: 0.9806WARNING:tensorflow:Learning rate reduction is conditioned on metric `val_acc` which is not available. Available metrics are: loss,accuracy,val_loss,val_accuracy,lr\n"
     ]
    },
    {
     "name": "stderr",
     "output_type": "stream",
     "text": [
      "WARNING:tensorflow:Learning rate reduction is conditioned on metric `val_acc` which is not available. Available metrics are: loss,accuracy,val_loss,val_accuracy,lr\n"
     ]
    },
    {
     "name": "stdout",
     "output_type": "stream",
     "text": [
      "215/215 [==============================] - 475s 2s/step - loss: 0.0633 - accuracy: 0.9806 - val_loss: 0.9689 - val_accuracy: 0.7905 - lr: 0.0100\n"
     ]
    }
   ],
   "source": [
    "history = model.fit_generator(generator=train_data,\n",
    "                            steps_per_epoch=train_data.samples//train_data.batch_size,\n",
    "                            validation_data=val_data,\n",
    "                            verbose=1,\n",
    "                            validation_steps=val_data.samples//val_data.batch_size,\n",
    "                            epochs=30,callbacks=[learning_control])"
   ]
  },
  {
   "cell_type": "code",
   "execution_count": 18,
   "metadata": {},
   "outputs": [
    {
     "name": "stderr",
     "output_type": "stream",
     "text": [
      "C:\\Users\\Rasti fitness\\AppData\\Local\\Packages\\PythonSoftwareFoundation.Python.3.9_qbz5n2kfra8p0\\LocalCache\\local-packages\\Python39\\site-packages\\keras\\src\\engine\\training.py:3103: UserWarning: You are saving your model as an HDF5 file via `model.save()`. This file format is considered legacy. We recommend using instead the native Keras format, e.g. `model.save('my_model.keras')`.\n",
      "  saving_api.save_model(\n"
     ]
    }
   ],
   "source": [
    "model.save('model12345.h5')"
   ]
  },
  {
   "cell_type": "code",
   "execution_count": 23,
   "metadata": {
    "execution": {
     "iopub.execute_input": "2021-06-03T13:11:30.175582Z",
     "iopub.status.busy": "2021-06-03T13:11:30.175269Z",
     "iopub.status.idle": "2021-06-03T13:11:30.406045Z",
     "shell.execute_reply": "2021-06-03T13:11:30.404558Z",
     "shell.execute_reply.started": "2021-06-03T13:11:30.175507Z"
    }
   },
   "outputs": [
    {
     "data": {
      "image/png": "[encoded data removed]",
      "text/plain": [
       "<Figure size 640x480 with 1 Axes>"
      ]
     },
     "metadata": {},
     "output_type": "display_data"
    }
   ],
   "source": [
    "import matplotlib.pyplot as plt\n",
    "plt.plot(history.history['accuracy'])\n",
    "plt.plot(history.history['val_accuracy'])\n",
    "plt.title('model accuracy')\n",
    "plt.ylabel('accuracy')\n",
    "plt.xlabel('epoch')\n",
    "plt.legend(['train', 'val'], loc='upper left')\n",
    "plt.show()\n"
   ]
  },
  {
   "cell_type": "code",
   "execution_count": 24,
   "metadata": {
    "execution": {
     "iopub.execute_input": "2021-06-03T13:11:36.784790Z",
     "iopub.status.busy": "2021-06-03T13:11:36.784455Z",
     "iopub.status.idle": "2021-06-03T13:11:36.990356Z",
     "shell.execute_reply": "2021-06-03T13:11:36.989569Z",
     "shell.execute_reply.started": "2021-06-03T13:11:36.784740Z"
    }
   },
   "outputs": [
    {
     "data": {
      "image/png": "[encoded data removed]",
      "text/plain": [
       "<Figure size 640x480 with 1 Axes>"
      ]
     },
     "metadata": {},
     "output_type": "display_data"
    }
   ],
   "source": [
    "plt.plot(history.history['loss'])\n",
    "plt.plot(history.history['val_loss'])\n",
    "plt.title('model loss')\n",
    "plt.ylabel('loss')\n",
    "plt.xlabel('epoch')\n",
    "plt.legend(['train', 'val'], loc='upper left')\n",
    "plt.show()"
   ]
  },
  {
   "cell_type": "code",
   "execution_count": 28,
   "metadata": {
    "execution": {
     "iopub.execute_input": "2021-06-03T13:12:14.514009Z",
     "iopub.status.busy": "2021-06-03T13:12:14.513704Z",
     "iopub.status.idle": "2021-06-03T13:12:14.798831Z",
     "shell.execute_reply": "2021-06-03T13:12:14.798032Z",
     "shell.execute_reply.started": "2021-06-03T13:12:14.513958Z"
    }
   },
   "outputs": [
    {
     "data": {
      "text/plain": [
       "<matplotlib.legend.Legend at 0x15111e4d580>"
      ]
     },
     "execution_count": 28,
     "metadata": {},
     "output_type": "execute_result"
    },
    {
     "data": {
      "image/png": "[encoded data removed]",
      "text/plain": [
       "<Figure size 640x480 with 1 Axes>"
      ]
     },
     "metadata": {},
     "output_type": "display_data"
    }
   ],
   "source": [
    "N = 30\n",
    "plt.style.use(\"ggplot\")\n",
    "plt.figure()\n",
    "plt.plot(np.arange(0, N), history.history[\"loss\"], label=\"train_loss\")\n",
    "plt.plot(np.arange(0, N), history.history[\"val_loss\"], label=\"val_loss\")\n",
    "plt.plot(np.arange(0, N), history.history[\"accuracy\"], label=\"train_acc\")\n",
    "plt.plot(np.arange(0, N), history.history[\"val_accuracy\"], label=\"val_acc\")\n",
    "plt.title(\"Training Loss and Accuracy\")\n",
    "plt.xlabel(\"Epoch #\")\n",
    "plt.ylabel(\"Loss/Accuracy\")\n",
    "plt.legend(loc=\"lower left\")\n"
   ]
  },
  {
   "cell_type": "code",
   "execution_count": 29,
   "metadata": {
    "execution": {
     "iopub.execute_input": "2021-06-03T13:14:11.868965Z",
     "iopub.status.busy": "2021-06-03T13:14:11.868641Z",
     "iopub.status.idle": "2021-06-03T13:15:01.490258Z",
     "shell.execute_reply": "2021-06-03T13:15:01.489422Z",
     "shell.execute_reply.started": "2021-06-03T13:14:11.868912Z"
    }
   },
   "outputs": [
    {
     "name": "stderr",
     "output_type": "stream",
     "text": [
      "C:\\Users\\Rasti fitness\\AppData\\Local\\Temp\\ipykernel_9072\\1044357436.py:2: UserWarning: `Model.predict_generator` is deprecated and will be removed in a future version. Please use `Model.predict`, which supports generators.\n",
      "  predictions = model.predict_generator(test_data, steps=test_data.samples/test_data.batch_size,verbose=1)\n"
     ]
    },
    {
     "name": "stdout",
     "output_type": "stream",
     "text": [
      "1703/1703 [==============================] - 76s 44ms/step\n"
     ]
    }
   ],
   "source": [
    "test_data.reset()\n",
    "predictions = model.predict_generator(test_data, steps=test_data.samples/test_data.batch_size,verbose=1)\n",
    "y_pred= np.argmax(predictions, axis=1)"
   ]
  },
  {
   "cell_type": "code",
   "execution_count": 30,
   "metadata": {
    "execution": {
     "iopub.execute_input": "2021-06-03T13:15:01.492580Z",
     "iopub.status.busy": "2021-06-03T13:15:01.492044Z",
     "iopub.status.idle": "2021-06-03T13:15:01.496943Z",
     "shell.execute_reply": "2021-06-03T13:15:01.495920Z",
     "shell.execute_reply.started": "2021-06-03T13:15:01.492511Z"
    }
   },
   "outputs": [],
   "source": [
    "c=np.where(y_pred == name_as_indexes_test)"
   ]
  },
  {
   "cell_type": "code",
   "execution_count": 31,
   "metadata": {
    "execution": {
     "iopub.execute_input": "2021-06-03T13:15:05.228085Z",
     "iopub.status.busy": "2021-06-03T13:15:05.227781Z",
     "iopub.status.idle": "2021-06-03T13:15:05.233502Z",
     "shell.execute_reply": "2021-06-03T13:15:05.232715Z",
     "shell.execute_reply.started": "2021-06-03T13:15:05.228035Z"
    }
   },
   "outputs": [
    {
     "data": {
      "text/plain": [
       "1324"
      ]
     },
     "execution_count": 31,
     "metadata": {},
     "output_type": "execute_result"
    }
   ],
   "source": [
    "np.count_nonzero(c)"
   ]
  },
  {
   "cell_type": "code",
   "execution_count": 32,
   "metadata": {
    "execution": {
     "iopub.execute_input": "2021-06-03T13:15:08.908392Z",
     "iopub.status.busy": "2021-06-03T13:15:08.908098Z",
     "iopub.status.idle": "2021-06-03T13:15:08.913713Z",
     "shell.execute_reply": "2021-06-03T13:15:08.912921Z",
     "shell.execute_reply.started": "2021-06-03T13:15:08.908342Z"
    }
   },
   "outputs": [
    {
     "name": "stdout",
     "output_type": "stream",
     "text": [
      "Test Accuracy : 77.74515560775103\n"
     ]
    }
   ],
   "source": [
    "print(\"Test Accuracy :\",(np.count_nonzero(c)/len(name_as_indexes_test))*100)"
   ]
  },
  {
   "cell_type": "code",
   "execution_count": 33,
   "metadata": {
    "execution": {
     "iopub.execute_input": "2021-06-03T13:15:30.148915Z",
     "iopub.status.busy": "2021-06-03T13:15:30.148608Z",
     "iopub.status.idle": "2021-06-03T13:15:30.162611Z",
     "shell.execute_reply": "2021-06-03T13:15:30.161456Z",
     "shell.execute_reply.started": "2021-06-03T13:15:30.148860Z"
    },
    "scrolled": true
   },
   "outputs": [
    {
     "name": "stdout",
     "output_type": "stream",
     "text": [
      "              precision    recall  f1-score   support\n",
      "\n",
      "           0       0.71      0.39      0.50        62\n",
      "           1       0.78      0.68      0.72        77\n",
      "           2       0.45      0.85      0.59       201\n",
      "           3       0.82      0.38      0.51        24\n",
      "           4       0.52      0.42      0.46       191\n",
      "           5       0.94      0.86      0.90      1128\n",
      "           6       0.79      0.95      0.86        20\n",
      "\n",
      "    accuracy                           0.78      1703\n",
      "   macro avg       0.71      0.64      0.65      1703\n",
      "weighted avg       0.81      0.78      0.78      1703\n",
      "\n"
     ]
    }
   ],
   "source": [
    "from sklearn.metrics import classification_report\n",
    "\n",
    "# Generate a classification report\n",
    "report = classification_report(name_as_indexes_test, y_pred)\n",
    "\n",
    "print(report)"
   ]
  },
  {
   "cell_type": "code",
   "execution_count": 34,
   "metadata": {},
   "outputs": [
    {
     "name": "stderr",
     "output_type": "stream",
     "text": [
      "C:\\Users\\Rasti fitness\\AppData\\Local\\Packages\\PythonSoftwareFoundation.Python.3.9_qbz5n2kfra8p0\\LocalCache\\local-packages\\Python39\\site-packages\\keras\\src\\engine\\training.py:3103: UserWarning: You are saving your model as an HDF5 file via `model.save()`. This file format is considered legacy. We recommend using instead the native Keras format, e.g. `model.save('my_model.keras')`.\n",
      "  saving_api.save_model(\n"
     ]
    }
   ],
   "source": [
    "model.save(\"model12345.h5\")"
   ]
  }
 ],
 "metadata": {
  "kernelspec": {
   "display_name": "base",
   "language": "python",
   "name": "python3"
  },
  "language_info": {
   "codemirror_mode": {
    "name": "ipython",
    "version": 3
   },
   "file_extension": ".py",
   "mimetype": "text/x-python",
   "name": "python",
   "nbconvert_exporter": "python",
   "pygments_lexer": "ipython3",
   "version": "3.9.13"
  }
 },
 "nbformat": 4,
 "nbformat_minor": 4
}
